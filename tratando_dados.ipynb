{
  "nbformat": 4,
  "nbformat_minor": 0,
  "metadata": {
    "colab": {
      "provenance": [],
      "include_colab_link": true
    },
    "kernelspec": {
      "name": "python3",
      "display_name": "Python 3"
    },
    "language_info": {
      "name": "python"
    }
  },
  "cells": [
    {
      "cell_type": "markdown",
      "metadata": {
        "id": "view-in-github",
        "colab_type": "text"
      },
      "source": [
        "<a href=\"https://colab.research.google.com/github/Monique14041980/FIAP-DATA-ANALYTICS/blob/main/tratando_dados.ipynb\" target=\"_parent\"><img src=\"https://colab.research.google.com/assets/colab-badge.svg\" alt=\"Open In Colab\"/></a>"
      ]
    },
    {
      "cell_type": "code",
      "execution_count": 4,
      "metadata": {
        "colab": {
          "base_uri": "https://localhost:8080/",
          "height": 373
        },
        "id": "WAISUufaRmXb",
        "outputId": "6673eaec-feb1-4cb4-f7c3-c22ebe975ee6"
      },
      "outputs": [
        {
          "output_type": "error",
          "ename": "FileNotFoundError",
          "evalue": "[Errno 2] No such file or directory: '/content/sample_data/final_data.csv'",
          "traceback": [
            "\u001b[0;31m---------------------------------------------------------------------------\u001b[0m",
            "\u001b[0;31mFileNotFoundError\u001b[0m                         Traceback (most recent call last)",
            "\u001b[0;32m<ipython-input-4-3e0eea88dd8b>\u001b[0m in \u001b[0;36m<cell line: 12>\u001b[0;34m()\u001b[0m\n\u001b[1;32m     10\u001b[0m \u001b[0;34m\u001b[0m\u001b[0m\n\u001b[1;32m     11\u001b[0m \u001b[0;31m# Ler o arquivo CSV usando pandas e armazená-lo em um DataFrame\u001b[0m\u001b[0;34m\u001b[0m\u001b[0;34m\u001b[0m\u001b[0m\n\u001b[0;32m---> 12\u001b[0;31m \u001b[0mdf\u001b[0m \u001b[0;34m=\u001b[0m \u001b[0mpd\u001b[0m\u001b[0;34m.\u001b[0m\u001b[0mread_csv\u001b[0m\u001b[0;34m(\u001b[0m\u001b[0mfile_path\u001b[0m\u001b[0;34m,\u001b[0m \u001b[0msep\u001b[0m\u001b[0;34m=\u001b[0m\u001b[0;34m','\u001b[0m\u001b[0;34m)\u001b[0m\u001b[0;34m\u001b[0m\u001b[0;34m\u001b[0m\u001b[0m\n\u001b[0m\u001b[1;32m     13\u001b[0m \u001b[0;34m\u001b[0m\u001b[0m\n\u001b[1;32m     14\u001b[0m \u001b[0;31m# Função para remover acentos\u001b[0m\u001b[0;34m\u001b[0m\u001b[0;34m\u001b[0m\u001b[0m\n",
            "\u001b[0;32m/usr/local/lib/python3.10/dist-packages/pandas/util/_decorators.py\u001b[0m in \u001b[0;36mwrapper\u001b[0;34m(*args, **kwargs)\u001b[0m\n\u001b[1;32m    209\u001b[0m                 \u001b[0;32melse\u001b[0m\u001b[0;34m:\u001b[0m\u001b[0;34m\u001b[0m\u001b[0;34m\u001b[0m\u001b[0m\n\u001b[1;32m    210\u001b[0m                     \u001b[0mkwargs\u001b[0m\u001b[0;34m[\u001b[0m\u001b[0mnew_arg_name\u001b[0m\u001b[0;34m]\u001b[0m \u001b[0;34m=\u001b[0m \u001b[0mnew_arg_value\u001b[0m\u001b[0;34m\u001b[0m\u001b[0;34m\u001b[0m\u001b[0m\n\u001b[0;32m--> 211\u001b[0;31m             \u001b[0;32mreturn\u001b[0m \u001b[0mfunc\u001b[0m\u001b[0;34m(\u001b[0m\u001b[0;34m*\u001b[0m\u001b[0margs\u001b[0m\u001b[0;34m,\u001b[0m \u001b[0;34m**\u001b[0m\u001b[0mkwargs\u001b[0m\u001b[0;34m)\u001b[0m\u001b[0;34m\u001b[0m\u001b[0;34m\u001b[0m\u001b[0m\n\u001b[0m\u001b[1;32m    212\u001b[0m \u001b[0;34m\u001b[0m\u001b[0m\n\u001b[1;32m    213\u001b[0m         \u001b[0;32mreturn\u001b[0m \u001b[0mcast\u001b[0m\u001b[0;34m(\u001b[0m\u001b[0mF\u001b[0m\u001b[0;34m,\u001b[0m \u001b[0mwrapper\u001b[0m\u001b[0;34m)\u001b[0m\u001b[0;34m\u001b[0m\u001b[0;34m\u001b[0m\u001b[0m\n",
            "\u001b[0;32m/usr/local/lib/python3.10/dist-packages/pandas/util/_decorators.py\u001b[0m in \u001b[0;36mwrapper\u001b[0;34m(*args, **kwargs)\u001b[0m\n\u001b[1;32m    329\u001b[0m                     \u001b[0mstacklevel\u001b[0m\u001b[0;34m=\u001b[0m\u001b[0mfind_stack_level\u001b[0m\u001b[0;34m(\u001b[0m\u001b[0;34m)\u001b[0m\u001b[0;34m,\u001b[0m\u001b[0;34m\u001b[0m\u001b[0;34m\u001b[0m\u001b[0m\n\u001b[1;32m    330\u001b[0m                 )\n\u001b[0;32m--> 331\u001b[0;31m             \u001b[0;32mreturn\u001b[0m \u001b[0mfunc\u001b[0m\u001b[0;34m(\u001b[0m\u001b[0;34m*\u001b[0m\u001b[0margs\u001b[0m\u001b[0;34m,\u001b[0m \u001b[0;34m**\u001b[0m\u001b[0mkwargs\u001b[0m\u001b[0;34m)\u001b[0m\u001b[0;34m\u001b[0m\u001b[0;34m\u001b[0m\u001b[0m\n\u001b[0m\u001b[1;32m    332\u001b[0m \u001b[0;34m\u001b[0m\u001b[0m\n\u001b[1;32m    333\u001b[0m         \u001b[0;31m# error: \"Callable[[VarArg(Any), KwArg(Any)], Any]\" has no\u001b[0m\u001b[0;34m\u001b[0m\u001b[0;34m\u001b[0m\u001b[0m\n",
            "\u001b[0;32m/usr/local/lib/python3.10/dist-packages/pandas/io/parsers/readers.py\u001b[0m in \u001b[0;36mread_csv\u001b[0;34m(filepath_or_buffer, sep, delimiter, header, names, index_col, usecols, squeeze, prefix, mangle_dupe_cols, dtype, engine, converters, true_values, false_values, skipinitialspace, skiprows, skipfooter, nrows, na_values, keep_default_na, na_filter, verbose, skip_blank_lines, parse_dates, infer_datetime_format, keep_date_col, date_parser, dayfirst, cache_dates, iterator, chunksize, compression, thousands, decimal, lineterminator, quotechar, quoting, doublequote, escapechar, comment, encoding, encoding_errors, dialect, error_bad_lines, warn_bad_lines, on_bad_lines, delim_whitespace, low_memory, memory_map, float_precision, storage_options)\u001b[0m\n\u001b[1;32m    948\u001b[0m     \u001b[0mkwds\u001b[0m\u001b[0;34m.\u001b[0m\u001b[0mupdate\u001b[0m\u001b[0;34m(\u001b[0m\u001b[0mkwds_defaults\u001b[0m\u001b[0;34m)\u001b[0m\u001b[0;34m\u001b[0m\u001b[0;34m\u001b[0m\u001b[0m\n\u001b[1;32m    949\u001b[0m \u001b[0;34m\u001b[0m\u001b[0m\n\u001b[0;32m--> 950\u001b[0;31m     \u001b[0;32mreturn\u001b[0m \u001b[0m_read\u001b[0m\u001b[0;34m(\u001b[0m\u001b[0mfilepath_or_buffer\u001b[0m\u001b[0;34m,\u001b[0m \u001b[0mkwds\u001b[0m\u001b[0;34m)\u001b[0m\u001b[0;34m\u001b[0m\u001b[0;34m\u001b[0m\u001b[0m\n\u001b[0m\u001b[1;32m    951\u001b[0m \u001b[0;34m\u001b[0m\u001b[0m\n\u001b[1;32m    952\u001b[0m \u001b[0;34m\u001b[0m\u001b[0m\n",
            "\u001b[0;32m/usr/local/lib/python3.10/dist-packages/pandas/io/parsers/readers.py\u001b[0m in \u001b[0;36m_read\u001b[0;34m(filepath_or_buffer, kwds)\u001b[0m\n\u001b[1;32m    603\u001b[0m \u001b[0;34m\u001b[0m\u001b[0m\n\u001b[1;32m    604\u001b[0m     \u001b[0;31m# Create the parser.\u001b[0m\u001b[0;34m\u001b[0m\u001b[0;34m\u001b[0m\u001b[0m\n\u001b[0;32m--> 605\u001b[0;31m     \u001b[0mparser\u001b[0m \u001b[0;34m=\u001b[0m \u001b[0mTextFileReader\u001b[0m\u001b[0;34m(\u001b[0m\u001b[0mfilepath_or_buffer\u001b[0m\u001b[0;34m,\u001b[0m \u001b[0;34m**\u001b[0m\u001b[0mkwds\u001b[0m\u001b[0;34m)\u001b[0m\u001b[0;34m\u001b[0m\u001b[0;34m\u001b[0m\u001b[0m\n\u001b[0m\u001b[1;32m    606\u001b[0m \u001b[0;34m\u001b[0m\u001b[0m\n\u001b[1;32m    607\u001b[0m     \u001b[0;32mif\u001b[0m \u001b[0mchunksize\u001b[0m \u001b[0;32mor\u001b[0m \u001b[0miterator\u001b[0m\u001b[0;34m:\u001b[0m\u001b[0;34m\u001b[0m\u001b[0;34m\u001b[0m\u001b[0m\n",
            "\u001b[0;32m/usr/local/lib/python3.10/dist-packages/pandas/io/parsers/readers.py\u001b[0m in \u001b[0;36m__init__\u001b[0;34m(self, f, engine, **kwds)\u001b[0m\n\u001b[1;32m   1440\u001b[0m \u001b[0;34m\u001b[0m\u001b[0m\n\u001b[1;32m   1441\u001b[0m         \u001b[0mself\u001b[0m\u001b[0;34m.\u001b[0m\u001b[0mhandles\u001b[0m\u001b[0;34m:\u001b[0m \u001b[0mIOHandles\u001b[0m \u001b[0;34m|\u001b[0m \u001b[0;32mNone\u001b[0m \u001b[0;34m=\u001b[0m \u001b[0;32mNone\u001b[0m\u001b[0;34m\u001b[0m\u001b[0;34m\u001b[0m\u001b[0m\n\u001b[0;32m-> 1442\u001b[0;31m         \u001b[0mself\u001b[0m\u001b[0;34m.\u001b[0m\u001b[0m_engine\u001b[0m \u001b[0;34m=\u001b[0m \u001b[0mself\u001b[0m\u001b[0;34m.\u001b[0m\u001b[0m_make_engine\u001b[0m\u001b[0;34m(\u001b[0m\u001b[0mf\u001b[0m\u001b[0;34m,\u001b[0m \u001b[0mself\u001b[0m\u001b[0;34m.\u001b[0m\u001b[0mengine\u001b[0m\u001b[0;34m)\u001b[0m\u001b[0;34m\u001b[0m\u001b[0;34m\u001b[0m\u001b[0m\n\u001b[0m\u001b[1;32m   1443\u001b[0m \u001b[0;34m\u001b[0m\u001b[0m\n\u001b[1;32m   1444\u001b[0m     \u001b[0;32mdef\u001b[0m \u001b[0mclose\u001b[0m\u001b[0;34m(\u001b[0m\u001b[0mself\u001b[0m\u001b[0;34m)\u001b[0m \u001b[0;34m->\u001b[0m \u001b[0;32mNone\u001b[0m\u001b[0;34m:\u001b[0m\u001b[0;34m\u001b[0m\u001b[0;34m\u001b[0m\u001b[0m\n",
            "\u001b[0;32m/usr/local/lib/python3.10/dist-packages/pandas/io/parsers/readers.py\u001b[0m in \u001b[0;36m_make_engine\u001b[0;34m(self, f, engine)\u001b[0m\n\u001b[1;32m   1733\u001b[0m                 \u001b[0;32mif\u001b[0m \u001b[0;34m\"b\"\u001b[0m \u001b[0;32mnot\u001b[0m \u001b[0;32min\u001b[0m \u001b[0mmode\u001b[0m\u001b[0;34m:\u001b[0m\u001b[0;34m\u001b[0m\u001b[0;34m\u001b[0m\u001b[0m\n\u001b[1;32m   1734\u001b[0m                     \u001b[0mmode\u001b[0m \u001b[0;34m+=\u001b[0m \u001b[0;34m\"b\"\u001b[0m\u001b[0;34m\u001b[0m\u001b[0;34m\u001b[0m\u001b[0m\n\u001b[0;32m-> 1735\u001b[0;31m             self.handles = get_handle(\n\u001b[0m\u001b[1;32m   1736\u001b[0m                 \u001b[0mf\u001b[0m\u001b[0;34m,\u001b[0m\u001b[0;34m\u001b[0m\u001b[0;34m\u001b[0m\u001b[0m\n\u001b[1;32m   1737\u001b[0m                 \u001b[0mmode\u001b[0m\u001b[0;34m,\u001b[0m\u001b[0;34m\u001b[0m\u001b[0;34m\u001b[0m\u001b[0m\n",
            "\u001b[0;32m/usr/local/lib/python3.10/dist-packages/pandas/io/common.py\u001b[0m in \u001b[0;36mget_handle\u001b[0;34m(path_or_buf, mode, encoding, compression, memory_map, is_text, errors, storage_options)\u001b[0m\n\u001b[1;32m    854\u001b[0m         \u001b[0;32mif\u001b[0m \u001b[0mioargs\u001b[0m\u001b[0;34m.\u001b[0m\u001b[0mencoding\u001b[0m \u001b[0;32mand\u001b[0m \u001b[0;34m\"b\"\u001b[0m \u001b[0;32mnot\u001b[0m \u001b[0;32min\u001b[0m \u001b[0mioargs\u001b[0m\u001b[0;34m.\u001b[0m\u001b[0mmode\u001b[0m\u001b[0;34m:\u001b[0m\u001b[0;34m\u001b[0m\u001b[0;34m\u001b[0m\u001b[0m\n\u001b[1;32m    855\u001b[0m             \u001b[0;31m# Encoding\u001b[0m\u001b[0;34m\u001b[0m\u001b[0;34m\u001b[0m\u001b[0m\n\u001b[0;32m--> 856\u001b[0;31m             handle = open(\n\u001b[0m\u001b[1;32m    857\u001b[0m                 \u001b[0mhandle\u001b[0m\u001b[0;34m,\u001b[0m\u001b[0;34m\u001b[0m\u001b[0;34m\u001b[0m\u001b[0m\n\u001b[1;32m    858\u001b[0m                 \u001b[0mioargs\u001b[0m\u001b[0;34m.\u001b[0m\u001b[0mmode\u001b[0m\u001b[0;34m,\u001b[0m\u001b[0;34m\u001b[0m\u001b[0;34m\u001b[0m\u001b[0m\n",
            "\u001b[0;31mFileNotFoundError\u001b[0m: [Errno 2] No such file or directory: '/content/sample_data/final_data.csv'"
          ]
        }
      ],
      "source": [
        "# Importar bibliotecas necessárias\n",
        "import pandas as pd\n",
        "import unicodedata\n",
        "import zipfile\n",
        "'''\n",
        "Carregando os arquivos .csv como panda dataframe\n",
        "'''\n",
        "# Caminho para o arquivo CSV no Google Drive\n",
        "file_path = '/content/sample_data/final_data.csv'\n",
        "\n",
        "# Ler o arquivo CSV usando pandas e armazená-lo em um DataFrame\n",
        "df = pd.read_csv(file_path, sep=',')\n",
        "\n",
        "# Função para remover acentos\n",
        "def remove_accents(input_str):\n",
        "    nfkd_form = unicodedata.normalize('NFKD', input_str)\n",
        "    return ''.join([c for c in nfkd_form if not unicodedata.combining(c)])\n",
        "\n",
        "# Remover acentos de todas as colunas do DataFrame\n",
        "for column in df.columns:\n",
        "    if df[column].dtype == 'object':\n",
        "        df[column] = df[column].apply(lambda x: remove_accents(str(x)) if pd.notnull(x) else x)\n",
        "\n",
        "# Visualizar as primeiras linhas do DataFrame\n",
        "df.head()\n",
        "\n"
      ]
    },
    {
      "cell_type": "code",
      "source": [
        "\n",
        "\n",
        "# Converter colunas de datas para o formato YYYY-MM\n",
        "df['data_transacao'] = pd.to_datetime(df['data_transacao']).dt.strftime('%Y-%m')\n",
        "df['data_abertura'] = pd.to_datetime(df['data_abertura']).dt.strftime('%Y-%m')\n",
        "df['data_entrada_proposta'] = pd.to_datetime(df['data_entrada_proposta']).dt.strftime('%Y-%m')\n",
        "df['data_ultimo_lancamento'] = pd.to_datetime(df['data_ultimo_lancamento']).dt.strftime('%Y-%m')\n",
        "\n",
        "# Converter as colunas de datas para datetime\n",
        "df['data_ultimo_lancamento'] = pd.to_datetime(df['data_ultimo_lancamento'])\n",
        "df['data_abertura'] = pd.to_datetime(df['data_abertura'])\n",
        "\n",
        "# Calcular a diferença entre as datas e armazenar em uma nova coluna 'periodo_cliente' em dias\n",
        "df['periodo_cliente'] = (df['data_ultimo_lancamento'] - df['data_abertura']).dt.days\n",
        "\n",
        "# Visualizar as primeiras linhas do DataFrame\n",
        "df.head()\n"
      ],
      "metadata": {
        "id": "33j-lSrvVCzy"
      },
      "execution_count": null,
      "outputs": []
    },
    {
      "cell_type": "code",
      "source": [
        "# Selecionar apenas as colunas especificadas para df2\n",
        "colunas_selecionadas = ['data_transacao', 'nome_transacao', 'valor_transacao',\n",
        "                        'tipo_conta', 'data_abertura', 'saldo_total', 'saldo_disponivel',\n",
        "                        'data_ultimo_lancamento', 'data_nascimento_x', 'tipo_cliente',\n",
        "                        'data_entrada_proposta', 'taxa_juros_mensal', 'valor_proposta',\n",
        "                        'valor_financiamento', 'valor_entrada', 'valor_prestacao',\n",
        "                        'quantidade_parcelas', 'carencia', 'status_proposta', 'periodo_cliente']\n",
        "\n",
        "# Criar um novo DataFrame df2 com as colunas selecionadas\n",
        "df2 = df[colunas_selecionadas]\n",
        "\n",
        "# Visualizar as primeiras linhas do DataFrame df2\n",
        "df2.head()"
      ],
      "metadata": {
        "id": "vbqU5vR3VedJ"
      },
      "execution_count": null,
      "outputs": []
    },
    {
      "cell_type": "code",
      "source": [
        "\n",
        "from datetime import datetime\n",
        "\n",
        "\n",
        "# Selecionar apenas as colunas necessárias do DataFrame original\n",
        "colunas_selecionadas = ['data_transacao', 'nome_transacao', 'valor_transacao',\n",
        "                        'tipo_conta', 'data_abertura', 'saldo_total', 'saldo_disponivel',\n",
        "                        'data_ultimo_lancamento', 'tipo_cliente',\n",
        "                        'data_entrada_proposta', 'taxa_juros_mensal', 'valor_proposta',\n",
        "                        'valor_financiamento', 'valor_entrada', 'valor_prestacao',\n",
        "                        'quantidade_parcelas', 'carencia', 'status_proposta', 'periodo_cliente']\n",
        "\n",
        "df2 = df[colunas_selecionadas].copy()  # Copiar as colunas selecionadas do DataFrame original\n",
        "\n",
        "# Calcular a idade atual com base na data de nascimento\n",
        "hoje = datetime.now()\n",
        "df2['idade'] = hoje.year - pd.to_datetime(df['data_nascimento_x']).dt.year\n",
        "\n",
        "# Definir faixas etárias\n",
        "def faixa_etaria(idade):\n",
        "    if idade < 18:\n",
        "        return 'Menor de 18 anos'\n",
        "    elif idade < 30:\n",
        "        return '18-29 anos'\n",
        "    elif idade < 40:\n",
        "        return '30-39 anos'\n",
        "    elif idade < 50:\n",
        "        return '40-49 anos'\n",
        "    elif idade < 60:\n",
        "        return '50-59 anos'\n",
        "    else:\n",
        "        return '60 anos ou mais'\n",
        "\n",
        "# Aplicar a função de faixa etária à coluna de idade\n",
        "df2['faixa_etaria'] = df2['idade'].apply(faixa_etaria)\n",
        "\n",
        "# Descartar a coluna 'data_nascimento_x' e manter apenas a coluna 'faixa_etaria'\n",
        "df2 = df2.drop(columns=['idade'])\n",
        "\n",
        "# Visualizar as primeiras linhas do DataFrame df2\n",
        "df2.head()\n"
      ],
      "metadata": {
        "id": "kGtRFXpHXN7k"
      },
      "execution_count": null,
      "outputs": []
    },
    {
      "cell_type": "code",
      "source": [
        "# Arredondamento com duas casas decimais e adicionar separadores de milhar\n",
        "def format_money(value):\n",
        "    return '{:,.2f}'.format(value)\n",
        "\n",
        "\n",
        "\n",
        "\n",
        "\n",
        "# Selecionar apenas as colunas necessárias do DataFrame original\n",
        "colunas_selecionadas = ['data_transacao', 'nome_transacao', 'valor_transacao',\n",
        "                        'tipo_conta', 'data_abertura', 'saldo_total', 'saldo_disponivel',\n",
        "                        'data_ultimo_lancamento', 'tipo_cliente',\n",
        "                        'data_entrada_proposta', 'taxa_juros_mensal', 'valor_proposta',\n",
        "                        'valor_financiamento', 'valor_entrada', 'valor_prestacao',\n",
        "                        'quantidade_parcelas', 'carencia', 'status_proposta', 'periodo_cliente']\n",
        "\n",
        "df2 = df[colunas_selecionadas].copy()  # Copiar as colunas selecionadas do DataFrame original\n",
        "\n",
        "# Calcular a idade atual com base na data de nascimento\n",
        "hoje = datetime.now()\n",
        "df2['idade'] = hoje.year - pd.to_datetime(df['data_nascimento_x']).dt.year\n",
        "\n",
        "# Definir faixas etárias\n",
        "def faixa_etaria(idade):\n",
        "    if idade < 18:\n",
        "        return 'Menor de 18 anos'\n",
        "    elif idade < 30:\n",
        "        return '18-29 anos'\n",
        "    elif idade < 40:\n",
        "        return '30-39 anos'\n",
        "    elif idade < 50:\n",
        "        return '40-49 anos'\n",
        "    elif idade < 60:\n",
        "        return '50-59 anos'\n",
        "    else:\n",
        "        return '60 anos ou mais'\n",
        "\n",
        "# Aplicar a função de faixa etária à coluna de idade\n",
        "df2['faixa_etaria'] = df2['idade'].apply(faixa_etaria)\n",
        "\n",
        "# Descartar a coluna 'data_nascimento_x' e manter apenas a coluna 'faixa_etaria'\n",
        "df2 = df2.drop(columns=['idade'])\n",
        "\n",
        "# Aplicar formatação às colunas específicas\n",
        "df2['valor_transacao'] = df2['valor_transacao'].apply(format_money)\n",
        "df2['saldo_total'] = df2['saldo_total'].apply(format_money)\n",
        "df2['saldo_disponivel'] = df2['saldo_disponivel'].apply(format_money)\n",
        "df2['taxa_juros_mensal'] = df2['taxa_juros_mensal'].apply(format_money)\n",
        "df2['valor_proposta'] = df2['valor_proposta'].apply(format_money)\n",
        "df2['valor_financiamento'] = df2['valor_financiamento'].apply(format_money)\n",
        "df2['valor_entrada'] = df2['valor_entrada'].apply(format_money)\n",
        "df2['valor_prestacao'] = df2['valor_prestacao'].apply(format_money)\n",
        "\n",
        "\n"
      ],
      "metadata": {
        "id": "KWrRVU6-YnY6"
      },
      "execution_count": null,
      "outputs": []
    },
    {
      "cell_type": "code",
      "source": [
        "\n",
        "# Salvar o DataFrame df2 como um arquivo do Excel no Google Drive sem o índice\n",
        "df2.to_excel('/content/sample_data/df2.xlsx', index=False)"
      ],
      "metadata": {
        "id": "XUIMP0COZbm3"
      },
      "execution_count": null,
      "outputs": []
    }
  ]
}